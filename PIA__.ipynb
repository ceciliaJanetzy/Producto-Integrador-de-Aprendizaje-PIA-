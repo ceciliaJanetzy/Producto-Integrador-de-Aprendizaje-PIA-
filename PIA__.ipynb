{
  "nbformat": 4,
  "nbformat_minor": 0,
  "metadata": {
    "colab": {
      "provenance": []
    },
    "kernelspec": {
      "name": "python3",
      "display_name": "Python 3"
    },
    "language_info": {
      "name": "python"
    }
  },
  "cells": [
    {
      "cell_type": "code",
      "execution_count": null,
      "metadata": {
        "id": "uoD7t6GnFIzu"
      },
      "outputs": [],
      "source": [
        "# Declaraciones generales\n",
        "import re"
      ]
    },
    {
      "cell_type": "markdown",
      "source": [
        "### **MENÚ DE LA APLICACIÓN**\n",
        "\n",
        "Lo primero que debe aparecer es el menú de la aplicación.\n",
        "\n",
        "```\n",
        "**** MENÚ PRINCIPAL ****\n",
        "\n",
        "[A] Registrar un asistente.\n",
        "[B] Registrar asistente a un evento.\n",
        "[C] Registrar asistencia al evento.\n",
        "[D] Ver eventos del alumno.\n",
        "[E] Listado de asistencia a evento.\n",
        "[X] Salir\n",
        "\n",
        "¿QUÉ OPCIÓN DESEAS?:\n",
        "\n",
        "```"
      ],
      "metadata": {
        "id": "fzQg9MXYGKMq"
      }
    },
    {
      "cell_type": "code",
      "source": [
        "def elegir_letra(prompt:str='SELECCIONA UNA LETRA: ',opciones_validas:str='12345'):\n",
        "        while True:\n",
        "            opcion=input(prompt)\n",
        "            opcion=opcion.upper()\n",
        "            if (opcion==''):\n",
        "                print('NO SE PUEDE OMITIR. INTENTAR DE NUEVO')\n",
        "                continue\n",
        "            if not bool(re.match(f'^[{opciones_validas}]$',opcion)):\n",
        "                print('NO SE RECONOCIO LA OPERACIÓN. INTENTAR DE NUEVO')\n",
        "                continue\n",
        "            # PARA TERMINAR EL CICLO\n",
        "            break\n",
        "        return opcion"
      ],
      "metadata": {
        "id": "w9yVcb77GNfq"
      },
      "execution_count": null,
      "outputs": []
    },
    {
      "cell_type": "code",
      "source": [
        "def mostrar_menu(opciones:dict,titulo:str='OPCIONES DISPONIBLES'):\n",
        "\n",
        "    print(titulo)\n",
        "    opciones_validas=''\n",
        "    for k,v in opciones.items():\n",
        "        print(f'[{k}] {v}')\n",
        "        opciones_validas=f'{opciones_validas}{k}'\n",
        "\n",
        "    opc=elegir_letra('¿QUÉ OPCIÓN DESEAS?: ', opciones_validas)\n",
        "    return opc"
      ],
      "metadata": {
        "id": "LA3yd35LaLuF"
      },
      "execution_count": null,
      "outputs": []
    },
    {
      "cell_type": "code",
      "source": [
        "# PROGRAMA PRINCIPAL\n",
        "\n",
        "opciones_menu_principal={\n",
        "    'A':'Registrar un asistente',\n",
        "    'B':'Registrar asistente a un evento',\n",
        "    'C':'Registrar asistencia al evento',\n",
        "    'D':'Ver eventos del alumno',\n",
        "    'E':'Listado de asistencia',\n",
        "    'X':'Salir\\n'\n",
        "}\n",
        "\n",
        "opciones_menu_asistentes={\n",
        "    'A':'Registrar un asistente',\n",
        "    'X':'Salir\\n'\n",
        "}\n",
        "\n",
        "opcion_registrar_evento={\n",
        "    'B':'Registrar asistente a un evento',\n",
        "    'X':'Salir\\n'\n",
        "}\n",
        "\n",
        "opcion_registrar_asistencia={\n",
        "    'C':'Registrar asistencia a un evento',\n",
        "    'X':'Salir\\n'\n",
        "}\n",
        "\n",
        "opcion_asistencia_alumnos={\n",
        "    'D':'Eventos del alumno',\n",
        "    'X':'Salir\\n'\n",
        "}\n",
        "\n",
        "opcion_lista_asistencias={\n",
        "    'E':'Lista de asistencia',\n",
        "    'X':'Salir\\n'\n",
        "}\n",
        "\n",
        "while True:\n",
        "    opcion_elegida=mostrar_menu(opciones_menu_principal, '\\n** MENÚ PRINCIPAL\\n')\n",
        "    match opcion_elegida:\n",
        "        case 'A':\n",
        "            while True:\n",
        "                opcion_elegida_asistente=mostrar_menu(opciones_menu_asistentes, '\\n** MENÚ ASISTENTES\\n')\n",
        "                match opcion_elegida_asistente:\n",
        "                    case 'A':\n",
        "                      from IPython.core.excolors import exception_colors\n",
        "                      conferencias={\n",
        "                          1:['04/11/2023 15:00','Inteligencia Artificial en los Negocios',\n",
        "                            'Dr. Alvaro Francisco Salazar', 'A', 0],\n",
        "                          2:['05/11/2023 09:00','Uso de la nube para gestión de procesos',\n",
        "                            'Dr. Manuel Leos','B',0],\n",
        "                          3:['05/11/2023 14:00','Industria 4.0 retos y oportunidades',\n",
        "                            'Dra. Monica Hernández','C',20],\n",
        "                          4:['05/11/2023 19:00','Machine Learning for a better world',\n",
        "                            'Dr. Janick Jameson','C',0],\n",
        "                          5:['06/11/2023 15:00','Retos de la Banca Electrónica en México',\n",
        "                            'Ing. Clara Benavides','A',0]\n",
        "                      }\n",
        "\n",
        "                      conferencia=0\n",
        "                      while True:\n",
        "                          _conferencia=input('¿A QUÉ CONFERENCIA DESEAS INSCRIBIRTE?: ')\n",
        "                          # Validar que no se omita\n",
        "                          if (_conferencia==''):\n",
        "                              print('CONFERENCIA NO VÁLIDA. INTENTAR DE NUEVO')\n",
        "                              continue\n",
        "                          # Validar que sea entero.\n",
        "                          try:\n",
        "                              conferencia=int(_conferencia)\n",
        "                          except:\n",
        "                              print('DEBE SER UN ENTERO. INTENTAR DE NUEVO')\n",
        "                              continue\n",
        "                          # Validar que la conferencia exista\n",
        "                          if not (conferencia in conferencias):\n",
        "                              print('NO EXISTE LA CONFERENCIA. INTENTAR DE NUEVO')\n",
        "                              continue\n",
        "                          # Si capturé una conferencia existente, que la despliegue.\n",
        "                          break\n",
        "\n",
        "                      print('CONFERENCIA ENCONTRADA CON ÉXITO')\n",
        "\n",
        "                    case 'X':\n",
        "                        break\n",
        "                    case _:\n",
        "                        print('NO SE RECONOCE LA OPERACIÓN')\n",
        "                        continue\n",
        "        case 'B':\n",
        "            while True:\n",
        "                opcion_elegida_evento=mostrar_menu(opcion_registrar_evento, '\\n** NUEVO ASISTENTE AL EVENTO\\n')\n",
        "                match opcion_elegida_evento:\n",
        "                    case 'B':\n",
        "                      nuevos_asistentes = []\n",
        "                      registrar_asistentes = int(input('ASISTENTES QUE DESEAS REGISTRAR: '))\n",
        "                      nuevos_asistentes.append(registrar_asistentes)\n",
        "                    case 'X':\n",
        "                        break\n",
        "                    case _:\n",
        "                        print('NO SE RECONOCE LA OPERACIÓN')\n",
        "                        continue\n",
        "        case 'C':\n",
        "            while True:\n",
        "                opcion_elegida_asistencia=mostrar_menu(opcion_registrar_asistencia, '\\n** REGISTRO DE ASISTENCIA\\n')\n",
        "                match opcion_registrar_asistencia:\n",
        "                    case 'C':\n",
        "                      def registrar_asistencia(evento_id, asistente_id):\n",
        "                        if evento_id in conferencias:\n",
        "                            evento = conferencias[evento_id]\n",
        "                            if asistente_id not in evento[4]:\n",
        "                                evento[4].append(asistente_id)\n",
        "                                print(f\"Asistencia registrada para el evento '{evento[1]}' (ID {evento_id}) para el asistente ID {asistente_id}.\")\n",
        "                    case 'X':\n",
        "                        break\n",
        "                    case _:\n",
        "                        print('NO SE RECONOCE LA OPERACIÓN')\n",
        "                        continue\n",
        "        case 'D':\n",
        "            while True:\n",
        "                opcion_elegida_alumnos=mostrar_menu(opcion_asistencia_alumnos, '\\n** EVENTOS DEL ALUMNO\\n')\n",
        "                match opcion_asistencia_alumnos:\n",
        "                  case 'D':\n",
        "                    class Alumno:\n",
        "                        def _init_(self, matricula, nombre, apellido1, apellido2, fecha_nacimiento, carrera):\n",
        "                            self.matricula = matricula\n",
        "                            self.nombre = nombre\n",
        "                            self.apellido1 = apellido1\n",
        "                            self.apellido2 = apellido2\n",
        "                            self.fecha_nacimiento = fecha_nacimiento\n",
        "                            self.carrera = carrera\n",
        "                            self.eventos_asistidos = []\n",
        "\n",
        "                        def asistir_evento(self, evento):\n",
        "                            if evento not in self.eventos_asistidos:\n",
        "                                self.eventos_asistidos.append(evento)\n",
        "\n",
        "                        def obtener_constancia(self):\n",
        "                            if len(self.eventos_asistidos) >= 3:\n",
        "                                return \"Constancia de participación otorgada\"\n",
        "                            else:\n",
        "                                return \"No cumple con los requisitos para obtener constancia\"\n",
        "\n",
        "                    # Crear instancias de eventos\n",
        "                    evento1 = evento(\"4 de noviembre\", \"15:00 horas\", \"Inteligencia Artificial en los Negocios\", \"Dr. Alvaro Francisco Salazar\", \"A\", 1000)\n",
        "                    evento2 = evento(\"5 de noviembre\", \"9:00 horas\", \"Uso de la nube para gestión de procesos\", \"Dr. Manuel Leos\", \"B\", 200)\n",
        "                    evento3 = evento(\"5 de noviembre\", \"14:00 horas\", \"Industria 4.0 retos y oportunidades\", \"Dra. Monica Hernández\", \"C\", 150)\n",
        "                    evento4 = evento(\"5 de noviembre\", \"19:00 horas\", \"Machine Learning for a better world\", \"Dr. Janick Jameson\", \"C\", 150)\n",
        "                    evento5 = evento(\"6 de noviembre\", \"15:00 horas\", \"Retos de la Banca Electrónica en México\", \"Ing. Clara Benavides\", \"A\", 1000)\n",
        "\n",
        "                    # Solicitar datos al usuario\n",
        "                    matricula = input(\"Ingrese su matrícula: \")\n",
        "                    nombre = input(\"Ingrese su nombre: \")\n",
        "                    apellido1 = input(\"Ingrese su primer apellido: \")\n",
        "                    apellido2 = input(\"Ingrese su segundo apellido: \")\n",
        "                    fecha_nacimiento = input(\"Ingrese su fecha de nacimiento (YYYY-MM-DD): \")\n",
        "                    carrera = input(\"Ingrese su carrera: \")\n",
        "\n",
        "                    # Crear instancia de alumno con los datos ingresados por el usuario\n",
        "                    alumno = Alumno(matricula, nombre, apellido1, apellido2, fecha_nacimiento, carrera)\n",
        "\n",
        "                    # Mostrar eventos disponibles\n",
        "                    print(\"Eventos disponibles:\")\n",
        "                    print(\"1. \", evento1.titulo)\n",
        "                    print(\"2. \", evento2.titulo)\n",
        "                    print(\"3. \", evento3.titulo)\n",
        "                    print(\"4. \", evento4.titulo)\n",
        "                    print(\"5. \", evento5.titulo)\n",
        "\n",
        "                    # Solicitar al usuario que elija los eventos a los que desea asistir\n",
        "                    num_eventos = int(input(\"Ingrese el número de eventos a los que desea asistir: \"))\n",
        "\n",
        "                    for i in range(num_eventos):\n",
        "                        evento_elegido = int(input(\"Ingrese el número del evento al que desea asistir: \"))\n",
        "                    if evento_elegido == 1:\n",
        "                        mensaje = evento1.agregar_asistente(alumno)\n",
        "                    elif evento_elegido == 2:\n",
        "                        mensaje = evento2.agregar_asistente(alumno)\n",
        "                    elif evento_elegido == 3:\n",
        "                        mensaje = evento3.agregar_asistente(alumno)\n",
        "                    elif evento_elegido == 4:\n",
        "                        mensaje = evento4.agregar_asistente(alumno)\n",
        "                    elif evento_elegido == 5:\n",
        "                        mensaje = evento5.agregar_asistente(alumno)\n",
        "                    else:\n",
        "                        mensaje = \"Número de evento inválido\"\n",
        "\n",
        "                    print(mensaje)\n",
        "\n",
        "                # Obtener constancia de participación del alumno\n",
        "                constancia = alumno.obtener_constancia()\n",
        "                print(constancia)\n",
        "\n",
        "                # Mostrar historial de eventos a los que ha asistido el alumno\n",
        "                print(\"Historial de eventos asistidos:\")\n",
        "                for evento in alumno.eventos_asistidos:\n",
        "                    print(evento.titulo)\n",
        "        case 'E':\n",
        "            while True:\n",
        "                opcion_elegida_asistencias=mostrar_menu(opcion_lista_asistencias, '\\n** EVENTOS DEL ALUMNO\\n')\n",
        "                match opcion_lista_asistencias:\n",
        "                  case 'E':\n",
        "                    evento = input('Ingrese el número del evento para ver la lista de asistentes: ')\n",
        "                    # Mostrar la lista de asistentes para un evento específico\n",
        "                    print(f'Lista de asistentes para el evento número {evento}:')\n",
        "                    for key, value in registros.items():\n",
        "                        if key[1] == evento:\n",
        "                            asistente = opcion_lista_asistencias(key[0])\n",
        "                            if asistente:\n",
        "                                print(f'Matricula: {key[0]}, Nombre: {asistente[\"nombre\"]} {asistente[\"apellido1\"]} {asistente[\"apellido2\"]}')\n",
        "                            else:\n",
        "                                print(f'Matricula: {key[0]}, Asistente no encontrado.')\n",
        "                  case 'X':\n",
        "                      break\n",
        "                  case _:\n",
        "                      print('NO SE RECONOCE LA OPERACIÓN')\n",
        "                      continue\n",
        "        case 'X':\n",
        "            print('GRACIAS POR USAR EL SISTEMA')\n",
        "            break\n",
        "        case _:\n",
        "            print('NO SE RECONOCE LA OPERACIÓN')\n",
        "            continue"
      ],
      "metadata": {
        "id": "rV6UNZmoU1_l",
        "colab": {
          "base_uri": "https://localhost:8080/"
        },
        "outputId": "5e6018c1-75e8-47a5-938d-463e2c0e9a13"
      },
      "execution_count": null,
      "outputs": [
        {
          "output_type": "stream",
          "name": "stdout",
          "text": [
            "\n",
            "** MENÚ PRINCIPAL\n",
            "\n",
            "[A] Registrar un asistente\n",
            "[B] Registrar asistente a un evento\n",
            "[C] Registrar asistencia al evento\n",
            "[D] Ver eventos del alumno\n",
            "[E] Listado de asistencia\n",
            "[X] Salir\n",
            "\n",
            "¿QUÉ OPCIÓN DESEAS?: x\n",
            "GRACIAS POR USAR EL SISTEMA\n"
          ]
        }
      ]
    },
    {
      "cell_type": "markdown",
      "source": [
        "## **REGISTRAR ASISTENTE**\n",
        "\n",
        "Aparece el siguiente menú:\n",
        "\n",
        "```\n",
        "[A] Registrar nuevo asistente.\n",
        "[B] Eliminar asistente.\n",
        "[C] Modificar datos de asistente.\n",
        "[D] Consultar asistente.\n",
        "[X] Regresar al menú principal.\n",
        "\n",
        "¿QUÉ DESEAS HACER?:\n",
        "```"
      ],
      "metadata": {
        "id": "2XXQ9ZzUUgVf"
      }
    },
    {
      "cell_type": "markdown",
      "source": [
        "## **REPRESENTACIÓN DE DATOS**\n",
        "1. A: Gumersindo Cantú Hinojosa, con capacidad de 1000 asistentes.\n",
        "1. B: Víctor Gómez, con capacidad de 200 asistentes.\n",
        "1. C: Casas Alatriste, con capacidad de 150 asistentes."
      ],
      "metadata": {
        "id": "pm2JivQ5NP_T"
      }
    },
    {
      "cell_type": "code",
      "source": [
        "# Representación de auditorios en un diccionario.\n",
        "auditorios={\n",
        "    'A': ['Gumersindo Cantú Hinojosa', 1000],\n",
        "    'B': ['Víctor Gómez', 200],\n",
        "    'C': ['Casas Alatriste', 150]\n",
        "}"
      ],
      "metadata": {
        "id": "RzfcWf2UNO63"
      },
      "execution_count": null,
      "outputs": []
    },
    {
      "cell_type": "markdown",
      "source": [
        "## **Representar los días de conferencias y su horario**\n",
        "1. 4 de noviembre, a las 15:00 horas. Inteligencia Artificial en los Negocios. Dr. Alvaro Francisco Salazar, en el auditorio A.\n",
        "1. 5 de noviembre, a las 9:00 horas. Uso de la nube para gestión de procesos. Dr. Manuel Leos, en el auditorio B.\n",
        "1. 5 de noviembre, a las 14:00 horas. Industria 4.0 retos y oportunidades. Dra. Monica Hernández, en el auditorio C.\n",
        "1. 5 de noviembre, a las 19:00 horas. Machine Learning for a better world. Dr. Janick Jameson, en el auditorio C.\n",
        "1. 6 de noviembre, a las 15:00 horas. Retos de la Banca Electrónica en México. Ing. Clara Benavides, en el auditorio A."
      ],
      "metadata": {
        "id": "tssOfSVaNmOW"
      }
    },
    {
      "cell_type": "code",
      "source": [
        "def info_disponibilidad(conferencia_deseada:int):\n",
        "    datos_conferencia=conferencias.get(conferencia_deseada,'')\n",
        "    print(f'Conferencia: {datos_conferencia[1]}')\n",
        "    print(f'Expositor: {datos_conferencia[2]}')\n",
        "    print(f'Fecha: {datos_conferencia[0]}')\n",
        "    nombre_auditorio=auditorios.get(datos_conferencia[3],'')[0]\n",
        "    capacidad_auditorio=auditorios.get(datos_conferencia[3],'')[1]\n",
        "    lugares_disponibles=capacidad_auditorio-datos_conferencia[4]\n",
        "    print(f'Auditorio: {nombre_auditorio}')\n",
        "    print(f'Lugares disponibles: {lugares_disponibles:,}')\n",
        "    return lugares_disponibles\n",
        "\n",
        "disponibilidad=info_disponibilidad(conferencia)"
      ],
      "metadata": {
        "colab": {
          "base_uri": "https://localhost:8080/"
        },
        "id": "mAmTZWn_2NFK",
        "outputId": "fe1d7d22-f143-421a-bdf3-b8efe7b67558"
      },
      "execution_count": null,
      "outputs": [
        {
          "output_type": "stream",
          "name": "stdout",
          "text": [
            "Conferencia: Industria 4.0 retos y oportunidades\n",
            "Expositor: Dra. Monica Hernández\n",
            "Fecha: 05/11/2023 14:00\n",
            "Auditorio: Casas Alatriste\n",
            "Lugares disponibles: 130\n"
          ]
        }
      ]
    },
    {
      "cell_type": "code",
      "source": [
        "def inscribir(conferencia_destino:int,cant:int=0):\n",
        "    conferencias[conferencia_destino][4]+=cant\n",
        "\n",
        "nuevos_asistentes=5\n",
        "disponibilidad=disponibilidad=info_disponibilidad(conferencia)\n",
        "\n",
        "if (disponibilidad>=nuevos_asistentes):\n",
        "    inscribir(conferencia,nuevos_asistentes)\n",
        "\n",
        "disponibilidad=info_disponibilidad(conferencia)"
      ],
      "metadata": {
        "colab": {
          "base_uri": "https://localhost:8080/"
        },
        "id": "rJMIX1ss2PMq",
        "outputId": "e9f76c2a-53c9-4992-9511-faaba04bd823"
      },
      "execution_count": null,
      "outputs": [
        {
          "output_type": "stream",
          "name": "stdout",
          "text": [
            "Conferencia: Industria 4.0 retos y oportunidades\n",
            "Expositor: Dra. Monica Hernández\n",
            "Fecha: 05/11/2023 14:00\n",
            "Auditorio: Casas Alatriste\n",
            "Lugares disponibles: 130\n",
            "Conferencia: Industria 4.0 retos y oportunidades\n",
            "Expositor: Dra. Monica Hernández\n",
            "Fecha: 05/11/2023 14:00\n",
            "Auditorio: Casas Alatriste\n",
            "Lugares disponibles: 125\n"
          ]
        }
      ]
    },
    {
      "cell_type": "code",
      "source": [
        "carreras={\n",
        "    'LTI':'LICENCIADO EN TECNOLOGÍA DE LA INFORMACIÓN',\n",
        "    'LA':'LICENCIADO EN ADMINISTRACIÓN',\n",
        "    'CP':'CONTADOR PÚBLICO',\n",
        "    'LNI':'LICENCIADO EN NEGOCIOS INTERNACIONALES',\n",
        "    'LGRS':'LICENCIADO EN GESTIÓN DE RESPONSABILIDAD SOCIAL'\n",
        "}"
      ],
      "metadata": {
        "id": "E6BtfbDC2SVB"
      },
      "execution_count": null,
      "outputs": []
    },
    {
      "cell_type": "code",
      "source": [
        "class Acciones:\n",
        "    def __init__(self):\n",
        "        # Diccionario para almacenar la información de los asistentes\n",
        "        self.asistentes = {}\n",
        "        # Diccionario para almacenar los registros de asistentes a eventos\n",
        "        self.registros = {}\n",
        "\n",
        "    # Métodos CRUD de asistente\n",
        "    def agregar_asistente(self, matricula, nombre, apellido1, apellido2, fecha_nacimiento, carrera):\n",
        "          self.asistentes[matricula] = {\n",
        "            'nombre': nombre,\n",
        "            'apellido1': apellido1,\n",
        "            'apellido2': apellido2,\n",
        "            'fecha_nacimiento': fecha_nacimiento,\n",
        "            'carrera': carrera,\n",
        "        }\n",
        "\n",
        "    def eliminar_asistente(self, matricula):\n",
        "        if matricula in self.asistentes:\n",
        "            del self.asistentes[matricula]\n",
        "\n",
        "    def actualizar_asistente(self, matricula, nueva_informacion):\n",
        "        if matricula in self.asistentes:\n",
        "            self.asistentes[matricula].update(nueva_informacion)\n",
        "\n",
        "    def mostrar_info_asistente(self, matricula):\n",
        "        if matricula in self.asistentes:\n",
        "            return self.asistentes[matricula]\n",
        "        else:\n",
        "            return None\n",
        "\n",
        "    # Métodos CRUD de registros\n",
        "    def registrar_asistente_a_evento(self, matricula, evento, auditorio, fecha, hora):\n",
        "        key = (matricula, evento)\n",
        "        if key not in self.registros:\n",
        "            # Verificar la capacidad del auditorio\n",
        "            if auditorio in ['A', 'B', 'C']:\n",
        "                capacidad_auditorio = {'A': 1000, 'B': 200, 'C': 150}[auditorio]\n",
        "                if len([r for r in self.registros.values() if r['auditorio'] == auditorio]) < capacidad_auditorio:\n",
        "                    self.registros[key] = {\n",
        "                        'auditorio': auditorio,\n",
        "                        'fecha': fecha,\n",
        "                        'hora': hora,\n",
        "                    }\n",
        "                    return True\n",
        "        return False\n",
        "\n",
        "    def eliminar_registro_asistente_a_evento(self, matricula, evento):\n",
        "        key = (matricula, evento)\n",
        "        if key in self.registros:\n",
        "            del self.registros[key]\n",
        "\n",
        "    def mostrar_info_registro_asistente(self, matricula, evento):\n",
        "        key = (matricula, evento)\n",
        "        return self.registros.get(key, None)\n",
        "\n",
        "\n",
        "# Ejemplo de uso\n",
        "acciones = Acciones()\n",
        "\n",
        "# Agregar asistentes\n",
        "acciones.agregar_asistente('123456', 'Juan', 'Perez', 'Gomez', '1990-01-15', 'LTI')\n",
        "acciones.agregar_asistente('789012', 'Maria', 'Lopez', 'Garcia', '1992-05-20', 'CP')\n",
        "\n",
        "# Mostrar información de un asistente\n",
        "print(acciones.mostrar_info_asistente('123456'))\n",
        "\n",
        "# Registrar asistentes a eventos\n",
        "acciones.registrar_asistente_a_evento('123456', 'Inteligencia Artificial en los Negocios', 'A', '2023-11-04', '15:00')\n",
        "acciones.registrar_asistente_a_evento('123456', 'Uso de la nube para gestión de procesos', 'B', '2023-11-05', '09:00')\n",
        "\n",
        "# Mostrar información de un registro de asistente\n",
        "print(acciones.mostrar_info_registro_asistente('123456', 'Inteligencia Artificial en los Negocios'))\n",
        "\n",
        "# Eliminar registro de asistente a evento\n",
        "acciones.eliminar_registro_asistente_a_evento('123456', 'Inteligencia Artificial en los Negocios')\n",
        "\n",
        "# Eliminar asistente\n",
        "acciones.eliminar_asistente('123456')"
      ],
      "metadata": {
        "colab": {
          "base_uri": "https://localhost:8080/"
        },
        "id": "aTTBz934_Tmf",
        "outputId": "67fda406-5c6f-467c-8202-cd07012a2d52"
      },
      "execution_count": null,
      "outputs": [
        {
          "output_type": "stream",
          "name": "stdout",
          "text": [
            "{'nombre': 'Juan', 'apellido1': 'Perez', 'apellido2': 'Gomez', 'fecha_nacimiento': '1990-01-15', 'carrera': 'LTI'}\n",
            "{'auditorio': 'A', 'fecha': '2023-11-04', 'hora': '15:00'}\n"
          ]
        }
      ]
    },
    {
      "cell_type": "code",
      "source": [
        "class Acciones:\n",
        "\n",
        "    def obtener_constancia_participacion(self, matricula):\n",
        "        eventos_asistidos = [evento for (m, evento), _ in self.registros.items() if m == matricula]\n",
        "\n",
        "        if len(eventos_asistidos) >= 3:\n",
        "            return f\"Constancia de participación otorgada a {matricula}. Ha asistido a {len(eventos_asistidos)} eventos.\"\n",
        "        else:\n",
        "            return f\"{matricula} no cumple con los requisitos para la constancia de participación.\""
      ],
      "metadata": {
        "id": "_6jPxaq0COiM"
      },
      "execution_count": null,
      "outputs": []
    }
  ]
}